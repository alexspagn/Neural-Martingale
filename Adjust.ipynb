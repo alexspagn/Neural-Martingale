{
 "cells": [
  {
   "cell_type": "code",
   "execution_count": 4,
   "metadata": {},
   "outputs": [
    {
     "name": "stdout",
     "output_type": "stream",
     "text": [
      "Requirement already satisfied: scipy in c:\\users\\aless\\miniconda3\\lib\\site-packages (1.10.1)\n",
      "Requirement already satisfied: numpy<1.27.0,>=1.19.5 in c:\\users\\aless\\miniconda3\\lib\\site-packages (from scipy) (1.23.5)\n",
      "Note: you may need to restart the kernel to use updated packages.\n"
     ]
    }
   ],
   "source": [
    "%pip install scipy"
   ]
  },
  {
   "cell_type": "code",
   "execution_count": 1,
   "metadata": {},
   "outputs": [],
   "source": [
    "import os\n",
    "from scipy.io import loadmat\n",
    "import pandas as pd\n",
    "import numpy as np\n",
    "import tensorflow as tf\n",
    "import matplotlib.pyplot as plt\n",
    "import h5py"
   ]
  },
  {
   "cell_type": "code",
   "execution_count": 7,
   "metadata": {},
   "outputs": [],
   "source": [
    "#Load .mat\n",
    "\n",
    "mat = loadmat('C:/Users/aless/Documents/Paper/Calibration/OptionData_1996_2014_only_Wed.mat')"
   ]
  },
  {
   "cell_type": "code",
   "execution_count": 8,
   "metadata": {},
   "outputs": [
    {
     "name": "stdout",
     "output_type": "stream",
     "text": [
      "Name  __header__\n",
      "Name  __version__\n",
      "Name  __globals__\n",
      "Name  Option_Date\n",
      "Name  Security_Date\n",
      "Name  Option_Maturity\n",
      "Name  Option_Strike\n",
      "Name  Option_Type\n",
      "Name  Option_Price\n",
      "Name  Security_Price\n",
      "Name  Option_Volume\n",
      "Name  Option_IV\n",
      "Name  ind_wed\n",
      "Name  PWed\n",
      "Name  ind_n\n"
     ]
    }
   ],
   "source": [
    "# Code for reading the names of the items in the .mat file\n",
    "\n",
    "variables = mat.items()\n",
    "\n",
    "for var in variables:\n",
    "    name = var[0]\n",
    "    data = var[1]\n",
    "    print( \"Name \", name)  # Name\n",
    "    if type(data) is h5py.Dataset:\n",
    "        # If DataSet pull the associated Data\n",
    "        # If not a dataset, you may need to access the element sub-items\n",
    "        value = data.value\n",
    "        print(\"Value\", value)  # NumPy Array / Value"
   ]
  },
  {
   "cell_type": "code",
   "execution_count": 9,
   "metadata": {},
   "outputs": [],
   "source": [
    "Option_Strike = mat['Option_Strike']\n",
    "Option_Maturity = mat['Option_Maturity']\n",
    "Security_Strike = mat['Security_Price']\n",
    "Option_Price = mat['Option_Price']"
   ]
  },
  {
   "cell_type": "code",
   "execution_count": 10,
   "metadata": {},
   "outputs": [
    {
     "data": {
      "text/plain": [
       "array([[ 66,  59,  52, ...,   3, 360, 353],\n",
       "       [528, 521, 514, ...,   3, 360, 353],\n",
       "       [ 38,  31, 150, ...,   3, 360, 353],\n",
       "       ...,\n",
       "       [  0,   0,   0, ...,   0,  79,   0],\n",
       "       [  0,   0,   0, ...,   0,  79,   0],\n",
       "       [  0,   0,   0, ...,   0,  79,   0]], dtype=uint16)"
      ]
     },
     "execution_count": 10,
     "metadata": {},
     "output_type": "execute_result"
    }
   ],
   "source": [
    "Option_Maturity"
   ]
  },
  {
   "cell_type": "code",
   "execution_count": 11,
   "metadata": {},
   "outputs": [
    {
     "data": {
      "text/plain": [
       "array([[ 600,  600,  600, ...,  100,  100,  100],\n",
       "       [ 550,  550,  550, ..., 1000, 1000, 1000],\n",
       "       [ 620,  620,  610, ..., 1025, 1025, 1025],\n",
       "       ...,\n",
       "       [   0,    0,    0, ...,    0, 2450,    0],\n",
       "       [   0,    0,    0, ...,    0, 2500,    0],\n",
       "       [   0,    0,    0, ...,    0,  950,    0]], dtype=uint16)"
      ]
     },
     "execution_count": 11,
     "metadata": {},
     "output_type": "execute_result"
    }
   ],
   "source": [
    "Option_Strike"
   ]
  },
  {
   "cell_type": "code",
   "execution_count": 12,
   "metadata": {},
   "outputs": [],
   "source": [
    "adj_Strike = [[Option_Strike[0][0]]]\n",
    "adj_Maturity = [[Option_Maturity[0][0]]]\n",
    "adj_Security = [[Security_Strike[0][0]]]\n",
    "adj_Price = [[Option_Price[0][0]]]\n",
    "a = 0\n",
    "maxit = 6938\n",
    "for i in range(maxit):\n",
    "    k = i\n",
    "    old, old_mat, flag, j, pivot = 0, 0, 0, 1, 1\n",
    "    if i>0:\n",
    "        adj_Strike.append([Option_Strike[i][0]])\n",
    "        adj_Maturity.append([Option_Maturity[i][0]])\n",
    "        adj_Security.append([Security_Strike[i][0]])\n",
    "        adj_Price.append([Option_Price[i][0]])\n",
    "    old = Option_Strike[i][0]\n",
    "    old_mat = Option_Maturity[i][0]\n",
    "    Option_Strike[i][0] = -1\n",
    "    while j < 981:\n",
    "        if Option_Strike[k][j] != -1:\n",
    "            if j>pivot and Option_Strike[k][j] != old:\n",
    "                if flag==0:\n",
    "                    pivot = j\n",
    "                if old_mat > 7:\n",
    "                    refer = k\n",
    "                    while k<maxit and (Option_Strike[k][j] != old or old_mat!=Option_Maturity[k][j]+7):\n",
    "                        k+=1\n",
    "                        flag = 1\n",
    "                    if k==maxit:\n",
    "                        while Option_Strike[refer][j] != old and refer>0:\n",
    "                            refer-=1\n",
    "                        if Option_Strike[refer][j] == old:\n",
    "                            k=refer\n",
    "                    if k<maxit and old_mat==Option_Maturity[k][j]+7:\n",
    "                        adj_Strike[a].append(Option_Strike[k][j])\n",
    "                        adj_Maturity[a].append(Option_Maturity[k][j])\n",
    "                        adj_Security[a].append(Security_Strike[k][j])\n",
    "                        adj_Price[a].append(Option_Price[k][j])\n",
    "                    else:\n",
    "                        if len(adj_Maturity[a])<5 or 65535 in adj_Strike[a]:\n",
    "                            adj_Maturity.pop(a)\n",
    "                            adj_Strike.pop(a)\n",
    "                            adj_Security.pop(a)\n",
    "                            adj_Price.pop(a)\n",
    "                        else:\n",
    "                            a+=1\n",
    "                        if flag==1:\n",
    "                            flag=0\n",
    "                            j = pivot\n",
    "                            k = i\n",
    "                            adj_Strike.append([Option_Strike[k][j]])\n",
    "                            adj_Maturity.append([Option_Maturity[k][j]])\n",
    "                            adj_Security.append([Security_Strike[k][j]])\n",
    "                            adj_Price.append([Option_Price[k][j]])\n",
    "                        else:\n",
    "                            adj_Strike.append([Option_Strike[k][j]])\n",
    "                            adj_Maturity.append([Option_Maturity[k][j]])\n",
    "                            adj_Security.append([Security_Strike[k][j]])\n",
    "                            adj_Price.append([Option_Price[k][j]])\n",
    "                            adj_Strike[a].append(Option_Strike[k][j])\n",
    "                            adj_Maturity[a].append(Option_Maturity[k][j])\n",
    "                            adj_Security[a].append(Security_Strike[k][j])\n",
    "                            adj_Price[a].append(Option_Price[k][j])\n",
    "                else:\n",
    "                    if len(adj_Maturity[a])<5 or 65535 in adj_Strike[a]:\n",
    "                        adj_Maturity.pop(a)\n",
    "                        adj_Strike.pop(a)\n",
    "                        adj_Security.pop(a)\n",
    "                        adj_Price.pop(a)\n",
    "                    else:\n",
    "                        a+=1\n",
    "                    if flag==1:\n",
    "                        flag=0\n",
    "                        j = pivot\n",
    "                        k = i\n",
    "                        adj_Strike.append([Option_Strike[k][j]])\n",
    "                        adj_Maturity.append([Option_Maturity[k][j]])\n",
    "                        adj_Security.append([Security_Strike[k][j]])\n",
    "                        adj_Price.append([Option_Price[k][j]])\n",
    "                    else:\n",
    "                        adj_Strike.append([Option_Strike[k][j]])\n",
    "                        adj_Maturity.append([Option_Maturity[k][j]])\n",
    "                        adj_Security.append([Security_Strike[k][j]])\n",
    "                        adj_Price.append([Option_Price[k][j]])\n",
    "                        adj_Strike[a].append(Option_Strike[k][j])\n",
    "                        adj_Maturity[a].append(Option_Maturity[k][j])\n",
    "                        adj_Security[a].append(Security_Strike[k][j])\n",
    "                        adj_Price[a].append(Option_Price[k][j])\n",
    "            else:\n",
    "                if (old_mat > 7 or j==1) and old_mat==Option_Maturity[k][j]+7:\n",
    "                    adj_Strike[a].append(Option_Strike[k][j])\n",
    "                    adj_Maturity[a].append(Option_Maturity[k][j])\n",
    "                    adj_Security[a].append(Security_Strike[k][j])\n",
    "                    adj_Price[a].append(Option_Price[k][j])\n",
    "                else:\n",
    "                    if len(adj_Maturity[a])<5 or 65535 in adj_Strike[a]:\n",
    "                        adj_Maturity.pop(a)\n",
    "                        adj_Strike.pop(a)\n",
    "                        adj_Security.pop(a)\n",
    "                        adj_Price.pop(a)\n",
    "                    else:\n",
    "                        a+=1\n",
    "                    if flag==1:\n",
    "                        flag=0\n",
    "                        j = pivot\n",
    "                        k = i\n",
    "                        adj_Strike.append([Option_Strike[k][j]])\n",
    "                        adj_Maturity.append([Option_Maturity[k][j]])\n",
    "                        adj_Security.append([Security_Strike[k][j]])\n",
    "                        adj_Price.append([Option_Price[k][j]])\n",
    "                    else:\n",
    "                        adj_Strike.append([Option_Strike[k][j]])\n",
    "                        adj_Maturity.append([Option_Maturity[k][j]])\n",
    "                        adj_Security.append([Security_Strike[k][j]])\n",
    "                        adj_Price.append([Option_Price[k][j]])\n",
    "                        adj_Strike[a].append(Option_Strike[k][j])\n",
    "                        adj_Maturity[a].append(Option_Maturity[k][j])\n",
    "                        adj_Security[a].append(Security_Strike[k][j])\n",
    "                        adj_Price[a].append(Option_Price[k][j])\n",
    "            old = Option_Strike[k][j]\n",
    "            old_mat = Option_Maturity[k][j]\n",
    "            Option_Strike[k][j] = -1\n",
    "            if (j==980 and flag==1) or (k==maxit-1 and flag==1):\n",
    "                if len(adj_Maturity[a])<5 or 65535 in adj_Strike[a]:\n",
    "                    adj_Maturity.pop(a)\n",
    "                    adj_Strike.pop(a)\n",
    "                    adj_Security.pop(a)\n",
    "                    adj_Price.pop(a)\n",
    "                else:\n",
    "                    a+=1\n",
    "                if flag==1:\n",
    "                    flag=0\n",
    "                    j = pivot\n",
    "                    k = i\n",
    "                    adj_Strike.append([Option_Strike[k][j]])\n",
    "                    adj_Maturity.append([Option_Maturity[k][j]])\n",
    "                    adj_Security.append([Security_Strike[k][j]])\n",
    "                    adj_Price.append([Option_Price[k][j]])\n",
    "                    Option_Strike[k][j] = -1\n",
    "                else:\n",
    "                    adj_Strike.append([Option_Strike[k][j]])\n",
    "                    adj_Maturity.append([Option_Maturity[k][j]])\n",
    "                    adj_Security.append([Security_Strike[k][j]])\n",
    "                    adj_Price.append([Option_Price[k][j]])\n",
    "                    Option_Strike[k][j] = -1\n",
    "            else:\n",
    "                j+=1\n",
    "        else:\n",
    "            j+=1\n",
    "    if len(adj_Maturity[a])<5 or 65535 in adj_Strike[a]:\n",
    "        adj_Maturity.pop(a)\n",
    "        adj_Strike.pop(a)\n",
    "        adj_Security.pop(a)\n",
    "        adj_Price.pop(a)\n",
    "    else:\n",
    "        a+=1"
   ]
  },
  {
   "cell_type": "code",
   "execution_count": 13,
   "metadata": {},
   "outputs": [],
   "source": [
    "for i in range(len(adj_Maturity)):\n",
    "    if len(adj_Maturity[i])>1:\n",
    "        if adj_Maturity[i][0]==adj_Maturity[i][1]:\n",
    "            adj_Maturity[i].pop(0)\n",
    "            adj_Strike[i].pop(0)\n",
    "            adj_Security[i].pop(0)\n",
    "            adj_Price[i].pop(0)"
   ]
  },
  {
   "cell_type": "code",
   "execution_count": 14,
   "metadata": {},
   "outputs": [
    {
     "data": {
      "text/plain": [
       "79089"
      ]
     },
     "execution_count": 14,
     "metadata": {},
     "output_type": "execute_result"
    }
   ],
   "source": [
    "a"
   ]
  },
  {
   "cell_type": "code",
   "execution_count": 15,
   "metadata": {},
   "outputs": [],
   "source": [
    "adj_Strike_df = pd.DataFrame(adj_Strike).fillna(0).astype(int)\n",
    "adj_Strike_df.to_csv('C:/Users/aless/Documents/Paper/Strike_adj.csv')"
   ]
  },
  {
   "cell_type": "code",
   "execution_count": 16,
   "metadata": {},
   "outputs": [],
   "source": [
    "#with pd.option_context('display.max_rows', None, 'display.max_columns', None):  # more options can be specified also\n",
    "#    print(adj_Strike_df)"
   ]
  },
  {
   "cell_type": "code",
   "execution_count": 17,
   "metadata": {},
   "outputs": [],
   "source": [
    "adj_Maturity_df = pd.DataFrame(adj_Maturity).fillna(0).astype(int)\n",
    "adj_Maturity_df.to_csv('C:/Users/aless/Documents/Paper/Maturity_adj.csv')"
   ]
  },
  {
   "cell_type": "code",
   "execution_count": 18,
   "metadata": {},
   "outputs": [],
   "source": [
    "#with pd.option_context('display.max_rows', None, 'display.max_columns', None):  # more options can be specified also\n",
    "#    print(adj_Maturity_df)"
   ]
  },
  {
   "cell_type": "code",
   "execution_count": 19,
   "metadata": {},
   "outputs": [],
   "source": [
    "adj_Security_df = pd.DataFrame(adj_Security).fillna(0).astype(int)\n",
    "adj_Security_df.to_csv('C:/Users/aless/Documents/Paper/Security_adj.csv')"
   ]
  },
  {
   "cell_type": "code",
   "execution_count": 20,
   "metadata": {},
   "outputs": [],
   "source": [
    "adj_Price_df = pd.DataFrame(adj_Price).fillna(0).astype(int)\n",
    "adj_Price_df.to_csv('C:/Users/aless/Documents/Paper/Price_adj.csv')"
   ]
  }
 ],
 "metadata": {
  "kernelspec": {
   "display_name": "Python 3",
   "language": "python",
   "name": "python3"
  },
  "language_info": {
   "codemirror_mode": {
    "name": "ipython",
    "version": 3
   },
   "file_extension": ".py",
   "mimetype": "text/x-python",
   "name": "python",
   "nbconvert_exporter": "python",
   "pygments_lexer": "ipython3",
   "version": "3.10.11"
  },
  "orig_nbformat": 4
 },
 "nbformat": 4,
 "nbformat_minor": 2
}
